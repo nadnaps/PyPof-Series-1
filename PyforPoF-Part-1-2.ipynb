{
 "cells": [
  {
   "cell_type": "markdown",
   "metadata": {},
   "source": [
    "# Python for PoF - Workshop Series - Part 1.2\n",
    "\n",
    "Vamsi Spandan\n",
    "\n",
    "Dennis Bakhuis\n",
    "\n",
    "**Reference Material** : \n",
    "* Effective Computation in Physics, Anthony Scopatz, Kathryn Huff, O'Reilly Media.\n",
    "* Python for Scientists, John Stewart, Cambridge.\n"
   ]
  },
  {
   "cell_type": "markdown",
   "metadata": {},
   "source": [
    "## The jupyter notebook can be used in many ways\n",
    "1. Manage research\n",
    "2. An excellent addition to your physical lab notebook\n",
    "3. Share your research in a __reproducible__ and __clean__ manner\n",
    "4. Use it for your assignment sets in classes\n",
    "\n",
    "__TIP:__ To run the code in a cell quickly, press Ctrl-Enter.\n",
    "\n",
    "__TIP:__ To quickly create a new cell below an existing one, type Ctrl-m then b.\n",
    "Other shortcuts for making, deleting, and moving cells are in the menubar at the top of the\n",
    "screen."
   ]
  },
  {
   "cell_type": "markdown",
   "metadata": {},
   "source": [
    "## Understanding basics of Python\n",
    "### 1.1 Commenting"
   ]
  },
  {
   "cell_type": "markdown",
   "metadata": {},
   "source": [
    "First thing we will learn is commenting. In python comments are preceeded by a #. Any text appearing after a # is a comment."
   ]
  },
  {
   "cell_type": "code",
   "execution_count": null,
   "metadata": {
    "collapsed": true
   },
   "outputs": [],
   "source": [
    "# Hey ! I am a comment"
   ]
  },
  {
   "cell_type": "code",
   "execution_count": null,
   "metadata": {
    "collapsed": true
   },
   "outputs": [],
   "source": [
    "this_part=\"is a comment\" # this part is not a comment"
   ]
  },
  {
   "cell_type": "markdown",
   "metadata": {},
   "source": [
    "### 1.2 Variables\n",
    "Everything in python is a object. Variable is one object. \n",
    "\n",
    "Variables consist of two parts: a type and its name. Put the variable name on the left of = and its value on the right. \n",
    "\n",
    "Variable = Type + Name \n",
    "\n",
    "Print out the value of the variables by using `print(variable_name)` [major difference in Python 2.7]"
   ]
  },
  {
   "cell_type": "code",
   "execution_count": null,
   "metadata": {
    "collapsed": false
   },
   "outputs": [],
   "source": [
    "my_name = 'vamsi'\n",
    "\n",
    "rad = 1.0\n",
    "pi  = 3.141519\n",
    "Area = pi*rad*rad\n",
    "\n",
    "print(Area)"
   ]
  },
  {
   "cell_type": "markdown",
   "metadata": {},
   "source": [
    "All variables in Python are typed. This means that the values in the variables have certain well defined properties which dictate how they are used. \n",
    "\n",
    "Different types have different properties. `int`, `float` are for mathematical operations. `str` are for text manipulation.  "
   ]
  },
  {
   "cell_type": "code",
   "execution_count": null,
   "metadata": {
    "collapsed": false
   },
   "outputs": [],
   "source": [
    "type(rad)"
   ]
  },
  {
   "cell_type": "code",
   "execution_count": null,
   "metadata": {
    "collapsed": true
   },
   "outputs": [],
   "source": [
    "float?"
   ]
  },
  {
   "cell_type": "markdown",
   "metadata": {},
   "source": [
    "You can also convert easily between types. "
   ]
  },
  {
   "cell_type": "code",
   "execution_count": null,
   "metadata": {
    "collapsed": true
   },
   "outputs": [],
   "source": [
    "a = 1    # a is a integer\n",
    "b = '1'  # b is a string "
   ]
  },
  {
   "cell_type": "code",
   "execution_count": null,
   "metadata": {
    "collapsed": false
   },
   "outputs": [],
   "source": [
    "float(a)"
   ]
  },
  {
   "cell_type": "code",
   "execution_count": null,
   "metadata": {
    "collapsed": false
   },
   "outputs": [],
   "source": [
    "int(b)"
   ]
  },
  {
   "cell_type": "code",
   "execution_count": null,
   "metadata": {
    "collapsed": false
   },
   "outputs": [],
   "source": [
    "int(my_name)"
   ]
  },
  {
   "cell_type": "markdown",
   "metadata": {},
   "source": [
    "** Debug clue ** : ValueError\n",
    "\n",
    "As seen above traceback generally gives the most relevant information about where the code crashed. This is just a preliminary way of understanding where your code breaks. You can also use advanced debuggers `pdb` for extremely complex codes. Traceback error generally clears issues most of the time. \n",
    "\n",
    "Pro tip: 'Fail early and fail often'\n",
    "\n",
    "Before starting to produce from your code - experiment and play around with your code to see how it handles different situations. "
   ]
  },
  {
   "cell_type": "markdown",
   "metadata": {},
   "source": [
    "** Dynamic Typing **\n",
    "\n",
    "Python is dynamically typed. This means - \n",
    "\n",
    "1. Types are set on variable values - not variable names.\n",
    "2. Variable types need not be known before they are used.\n",
    "3. Variable names can change types when values are changed. "
   ]
  },
  {
   "cell_type": "code",
   "execution_count": null,
   "metadata": {
    "collapsed": true
   },
   "outputs": [],
   "source": [
    "x = 1\n",
    "x = 1.5e-6\n",
    "x = 'just a string'"
   ]
  },
  {
   "cell_type": "markdown",
   "metadata": {},
   "source": [
    "** Special Variables ** \n",
    "\n",
    "Some special variables have values built into them.\n",
    "\n",
    "`True, False, None, NotImplemented`\n",
    "\n",
    "They come into existence only once whenever you start up Python. Also known as Singletons."
   ]
  },
  {
   "cell_type": "code",
   "execution_count": null,
   "metadata": {
    "collapsed": false
   },
   "outputs": [],
   "source": [
    "bool(0)"
   ]
  },
  {
   "cell_type": "code",
   "execution_count": null,
   "metadata": {
    "collapsed": false
   },
   "outputs": [],
   "source": [
    "bool('do we need oxygen?')"
   ]
  },
  {
   "cell_type": "code",
   "execution_count": null,
   "metadata": {
    "collapsed": false
   },
   "outputs": [],
   "source": [
    "bool('am i a man?')"
   ]
  },
  {
   "cell_type": "markdown",
   "metadata": {},
   "source": [
    "`None` is a special variable used to denote that no value was given or no behvaiour was defined. Different from using zero, since zero would be a valid number. If `None` reaches a point where a program expects a `integer` or a `float` the program will crash.\n",
    "\n",
    "Different operators on variables\n",
    "\n",
    "* +x : returns x for numeric types \n",
    "* -x : returns -x for numeric types\n",
    "* not x : negation operator, True becomes False and vice versa\n",
    "* del x : deletes the variable x\n",
    "\n",
    "and many more ..."
   ]
  },
  {
   "cell_type": "markdown",
   "metadata": {},
   "source": [
    "** Strings ** \n",
    "\n",
    "Type name is `str` "
   ]
  },
  {
   "cell_type": "code",
   "execution_count": null,
   "metadata": {
    "collapsed": true
   },
   "outputs": [],
   "source": [
    "a = 'i am a string'\n",
    "b = \"i am also a string\"\n",
    "c = 'string'"
   ]
  },
  {
   "cell_type": "markdown",
   "metadata": {},
   "source": [
    "You can easily index strings to retreive data.\n",
    "\n",
    "Use square brackets `[]` to operate on a particular variable\n",
    "\n",
    "Python is **zero-indexed** ! Element count starts at 0, then 1,2 etc. To get the second elements of a string you would use an index of 1. But why ?"
   ]
  },
  {
   "cell_type": "code",
   "execution_count": null,
   "metadata": {
    "collapsed": false
   },
   "outputs": [],
   "source": [
    "c[1]"
   ]
  },
  {
   "cell_type": "markdown",
   "metadata": {},
   "source": [
    "Elements can also be extracted with negative indices. Negative indices count from back. The last elets is indexed -1, second to last is -2 and so on. Shorter than having to write that you want to compute the length of the string and then walk back a certain number of elements. You can anyway compute the length of a string by len(s)."
   ]
  },
  {
   "cell_type": "code",
   "execution_count": null,
   "metadata": {
    "collapsed": false
   },
   "outputs": [],
   "source": [
    "c[-1]"
   ]
  },
  {
   "cell_type": "code",
   "execution_count": null,
   "metadata": {
    "collapsed": false
   },
   "outputs": [],
   "source": [
    "c[len(c)-1]"
   ]
  },
  {
   "cell_type": "markdown",
   "metadata": {},
   "source": [
    "** Slicing ** \n",
    "\n",
    "To pull out more than a single element, extract using a slice. In the simplest form, slices are spelled out as two integer indices separated by a colon i.e `c[start:stop]`"
   ]
  },
  {
   "cell_type": "code",
   "execution_count": null,
   "metadata": {
    "collapsed": false
   },
   "outputs": [],
   "source": [
    "c[1:3]"
   ]
  },
  {
   "cell_type": "markdown",
   "metadata": {},
   "source": [
    "Note that c[3] did not make it into the output. This is because slices are defined to be inclusive on the lower end and exclusve on the upper end. In mathematical form slice is defined by `[start,stop)`\n",
    "\n",
    "Strong connect between slicing and zero indexing. Difference between stop and start values will always be the length of the subsequence. \n",
    "\n",
    "`stop-start ==len(c[start:stop])`"
   ]
  },
  {
   "cell_type": "code",
   "execution_count": null,
   "metadata": {
    "collapsed": false
   },
   "outputs": [],
   "source": [
    "c"
   ]
  },
  {
   "cell_type": "code",
   "execution_count": null,
   "metadata": {
    "collapsed": false
   },
   "outputs": [],
   "source": [
    "c[1:-1]"
   ]
  },
  {
   "cell_type": "markdown",
   "metadata": {},
   "source": [
    "A nice feature of slicing is that the start and stop values are optional. If either or both of the values are left out of the slice then sensible defaults are used. \n",
    "\n",
    "start becomes 0 and stop becomes the length. "
   ]
  },
  {
   "cell_type": "code",
   "execution_count": null,
   "metadata": {
    "collapsed": false
   },
   "outputs": [],
   "source": [
    "c[:2]"
   ]
  },
  {
   "cell_type": "code",
   "execution_count": null,
   "metadata": {
    "collapsed": false
   },
   "outputs": [],
   "source": [
    "c[-2:]"
   ]
  },
  {
   "cell_type": "code",
   "execution_count": null,
   "metadata": {
    "collapsed": false
   },
   "outputs": [],
   "source": [
    "c[:]"
   ]
  },
  {
   "cell_type": "markdown",
   "metadata": {},
   "source": [
    "Last parameter in slicing is the stride or jump you take. Its like this `c[start:stop:step]`"
   ]
  },
  {
   "cell_type": "code",
   "execution_count": null,
   "metadata": {
    "collapsed": false
   },
   "outputs": [],
   "source": [
    "print(c)\n",
    "c[::2] # from start to end by taking 2 steps at once"
   ]
  },
  {
   "cell_type": "markdown",
   "metadata": {},
   "source": [
    "You can also use negative indices for the strides."
   ]
  },
  {
   "cell_type": "code",
   "execution_count": null,
   "metadata": {
    "collapsed": false
   },
   "outputs": [],
   "source": [
    "c[::-1] # to reverse a list"
   ]
  },
  {
   "cell_type": "markdown",
   "metadata": {},
   "source": [
    "Slices are their own type and can be created independently without indexing. The slice can be stored and used multiple times. To create a raw slice use `slice{start,stop,step)`. If any of the values need to have their default values just pass in `None` rather than a integer index. "
   ]
  },
  {
   "cell_type": "code",
   "execution_count": null,
   "metadata": {
    "collapsed": false
   },
   "outputs": [],
   "source": [
    "my_slice = slice(0,6,2)\n",
    "c[my_slice]"
   ]
  },
  {
   "cell_type": "code",
   "execution_count": null,
   "metadata": {
    "collapsed": false
   },
   "outputs": [],
   "source": [
    "my_slice = slice(None,None,2)\n",
    "c[my_slice]"
   ]
  },
  {
   "cell_type": "markdown",
   "metadata": {},
   "source": [
    "Adding strings"
   ]
  },
  {
   "cell_type": "code",
   "execution_count": null,
   "metadata": {
    "collapsed": false
   },
   "outputs": [],
   "source": [
    "'kilo' + 'meter'"
   ]
  },
  {
   "cell_type": "code",
   "execution_count": null,
   "metadata": {
    "collapsed": false
   },
   "outputs": [],
   "source": [
    "'x^' + str(2)"
   ]
  },
  {
   "cell_type": "code",
   "execution_count": null,
   "metadata": {
    "collapsed": false
   },
   "outputs": [],
   "source": [
    "'add' * 10"
   ]
  },
  {
   "cell_type": "code",
   "execution_count": null,
   "metadata": {
    "collapsed": false
   },
   "outputs": [],
   "source": [
    "quote = (\"All your folder is a stage,\"          #Build up long strings between parantheses\n",
    "         \"and all files are merely players\")"
   ]
  },
  {
   "cell_type": "code",
   "execution_count": null,
   "metadata": {
    "collapsed": true
   },
   "outputs": [],
   "source": [
    "quote = \"\"\"Bla bla bla bla\n",
    "           More bla bla bla bla\n",
    "           bla bla bla\n",
    "        \"\"\""
   ]
  },
  {
   "cell_type": "markdown",
   "metadata": {},
   "source": [
    "### Attributes and Methods"
   ]
  },
  {
   "cell_type": "markdown",
   "metadata": {},
   "source": [
    "Variables in Python have other variables that live on them. These are called `Attributes` (`attrs`). They can be accessed using the dot operator (.).\n",
    "\n",
    "If `x` has a `y` using `x.y` means 'Go into `x` and bring me `y`'\n",
    "\n",
    "Some attributes are function types - this makes them `Methods`. Understand them as special operations you can perform on variables. To use methods you call them with the parenthese () operator. "
   ]
  },
  {
   "cell_type": "code",
   "execution_count": null,
   "metadata": {
    "collapsed": false
   },
   "outputs": [],
   "source": [
    "c"
   ]
  },
  {
   "cell_type": "code",
   "execution_count": null,
   "metadata": {
    "collapsed": false
   },
   "outputs": [],
   "source": [
    "# Here i use the upper() method to make all characters CAPITALS\n",
    "c.upper()"
   ]
  },
  {
   "cell_type": "code",
   "execution_count": null,
   "metadata": {
    "collapsed": false
   },
   "outputs": [],
   "source": [
    "# isdigit() method checks if the string is composed purely of digits.\n",
    "c.isdigit()"
   ]
  },
  {
   "cell_type": "code",
   "execution_count": null,
   "metadata": {
    "collapsed": false
   },
   "outputs": [],
   "source": [
    "'1000'.isdigit()"
   ]
  },
  {
   "cell_type": "markdown",
   "metadata": {},
   "source": [
    "You can format your output as desired "
   ]
  },
  {
   "cell_type": "code",
   "execution_count": null,
   "metadata": {
    "collapsed": false
   },
   "outputs": [],
   "source": [
    "# format() method creates new strings from templates with values filled in\n",
    "\n",
    "\"{0} is talking, {1} are listening\".format(\"Vamsi\", \"People\")"
   ]
  },
  {
   "cell_type": "code",
   "execution_count": 3,
   "metadata": {
    "collapsed": false
   },
   "outputs": [
    {
     "data": {
      "text/plain": [
       "'1.00 is talking, 0.0000 are listening'"
      ]
     },
     "execution_count": 3,
     "metadata": {},
     "output_type": "execute_result"
    }
   ],
   "source": [
    "a = 1\n",
    "b = 0\n",
    "\"{0:.2f} is talking, {1:.4f} are listening\".format(a,b)"
   ]
  },
  {
   "cell_type": "code",
   "execution_count": 4,
   "metadata": {
    "collapsed": false
   },
   "outputs": [
    {
     "data": {
      "text/plain": [
       "'1.00 is talking, 0.0000 are listening'"
      ]
     },
     "execution_count": 4,
     "metadata": {},
     "output_type": "execute_result"
    }
   ],
   "source": [
    "# You can also control the precision of the numbers\n",
    "\n",
    "a = 1\n",
    "b = 0\n",
    "\"{0:.2f} is talking, {1:.4f} are listening\".format(a,b)"
   ]
  },
  {
   "cell_type": "markdown",
   "metadata": {},
   "source": [
    "https://pyformat.info/ Take a look for details on varieties of formatting."
   ]
  },
  {
   "cell_type": "markdown",
   "metadata": {
    "collapsed": false
   },
   "source": [
    "### 1.4 Modules\n",
    "\n",
    "All python files end with .py extension. When you bring such a file into a running python interpreter it is called a module. This is the in-memory representation of all of python code in the file. A collection of modules is called a package. Important to remember - python allows modules to be written in other languages. \n",
    "\n",
    "Modules allow for a bunch of related code files to exist next to each other and be accessed in a common way. It also provides a mechanism to save and share code for use by other people. Python standard library itself is a big collection of modules for many tasks. Using modules is how you get stuff done which requires anything more than pure built-in python.\n",
    "\n",
    "** Code from modules can be collected in many ways **\n",
    "\n",
    "Use `import` keyword to pull in the module itself and allows you to access all variables in that module. Modules themselves can use other modules. \n",
    "\n",
    "`import <module>`\n",
    "\n",
    "Once a module is imported, you can obtain the variables in that module using the attribute access operator (.). The same syntax that is used to get methods on any object. "
   ]
  },
  {
   "cell_type": "code",
   "execution_count": null,
   "metadata": {
    "collapsed": false
   },
   "outputs": [],
   "source": [
    "import human\n",
    "\n",
    "eyes = human.num_eyes\n",
    "name = human.str_name\n",
    "hands = human.num_hands\n",
    "mouths = human.num_mouth\n",
    "'{0} has {1} hands and {2} mouth'.format(name,hands,mouths)"
   ]
  },
  {
   "cell_type": "markdown",
   "metadata": {},
   "source": [
    "**Importing specific variables from a module**\n",
    "\n",
    "If you want to use the variable repeatedly, writing the whole thing can get painful. You can use the `from-import` syntax for this which imports specific variables from a module. "
   ]
  },
  {
   "cell_type": "code",
   "execution_count": null,
   "metadata": {
    "collapsed": false
   },
   "outputs": [],
   "source": [
    "from human import num_eyes, num_mouth\n",
    "print(num_eyes, num_mouth)"
   ]
  },
  {
   "cell_type": "markdown",
   "metadata": {},
   "source": [
    "**Giving your imports a different name**\n",
    "\n",
    "If you have a module with a big name like `my_name_is_so_big.py` you dont want to use the full name of the module again and again. So you can give it a shorter easier name"
   ]
  },
  {
   "cell_type": "code",
   "execution_count": 4,
   "metadata": {
    "collapsed": false
   },
   "outputs": [
    {
     "name": "stdout",
     "output_type": "stream",
     "text": [
      "Fortran \n",
      " C or C++ \n",
      " Java\n"
     ]
    }
   ],
   "source": [
    "import my_name_is_so_big as nam\n",
    "dir(nam)\n",
    "print(nam.lang_1,'\\n',nam.lang_2,'\\n',nam.lang_3)"
   ]
  },
  {
   "cell_type": "markdown",
   "metadata": {},
   "source": [
    "You can also import your variables with different names"
   ]
  },
  {
   "cell_type": "code",
   "execution_count": 5,
   "metadata": {
    "collapsed": true
   },
   "outputs": [],
   "source": [
    "from my_name_is_so_big import lang_1 as scri_1"
   ]
  },
  {
   "cell_type": "markdown",
   "metadata": {},
   "source": [
    "What if you want all your modules in a specific directory and you want Python to look into this directory whenever you import a directory. For this you can set an environment variable which is nothing but a Unix term for a path to a directory. If all this sounds bla-bla-bla just open a new terminal and implement this\n",
    "\n",
    "`export PYTHONPATH=$PYTHONPATH:/home/vamsi/user_defined_modules`\n",
    "\n",
    "`/home/vamsi/user_defined_modules` is the path to the directory you want"
   ]
  },
  {
   "cell_type": "markdown",
   "metadata": {},
   "source": [
    "## 2. Containers "
   ]
  },
  {
   "cell_type": "markdown",
   "metadata": {},
   "source": [
    "These are nothing but data-types which can hold other variables. Important ones are `list`, `tuple`, `dictionary`. \n",
    "\n",
    "Understanding **Mutability** and **Duck typing**\n",
    "\n",
    "**Mutability**: A data type is *mutable* if its value is allowed to changes once it has been created. It is *immutable* if its values cannot be changed once it is created. For example you cannot change a data type of `int`, `float` or `str`.\n",
    "\n",
    "**Duck typing**: A core principle of Python - also makes it easy to use. It means that the type of a variable is less important than the interface it exposes. What a variable acts like at the moment it is used is more important that the actual underlying type. *The whole idea is that syntax of an operator should not change just because the type of the underlying variable changes. This make Python very easy to learn!*"
   ]
  },
  {
   "cell_type": "markdown",
   "metadata": {},
   "source": [
    "### 2.1 Lists\n",
    "\n",
    "One-dimensional ordered containers whose elements may be any python object (variable). Lists are mutable and have methods for adding and removing elements. Square brackets around lists can give a hint that they are indexable."
   ]
  },
  {
   "cell_type": "code",
   "execution_count": 7,
   "metadata": {
    "collapsed": true
   },
   "outputs": [],
   "source": [
    "list_1 = [1,2,3,'some_numbers','i am in a list']\n",
    "list_2 = [[1,0,2],[1,'list_in_list']]"
   ]
  },
  {
   "cell_type": "markdown",
   "metadata": {},
   "source": [
    "Unlike other languages, anything can go in a list; `int`, `float`, `str` or even other lists. To concatenate lists you can just add them using `+` operator"
   ]
  },
  {
   "cell_type": "code",
   "execution_count": 10,
   "metadata": {
    "collapsed": false
   },
   "outputs": [
    {
     "data": {
      "text/plain": [
       "[1, 2, 3, 'some_numbers', 'i am in a list', [1, 0, 2], [1, 'list_in_list']]"
      ]
     },
     "execution_count": 10,
     "metadata": {},
     "output_type": "execute_result"
    }
   ],
   "source": [
    "list_12 = list_1+list_2\n",
    "list_12"
   ]
  },
  {
   "cell_type": "markdown",
   "metadata": {},
   "source": [
    "You can add more elements to the list using the append method"
   ]
  },
  {
   "cell_type": "code",
   "execution_count": 11,
   "metadata": {
    "collapsed": true
   },
   "outputs": [],
   "source": [
    "list_12.append('i am being added')"
   ]
  },
  {
   "cell_type": "code",
   "execution_count": 12,
   "metadata": {
    "collapsed": true
   },
   "outputs": [],
   "source": [
    "list_12.extend(['1_more','2_more',3.1415])"
   ]
  },
  {
   "cell_type": "code",
   "execution_count": null,
   "metadata": {
    "collapsed": true
   },
   "outputs": [],
   "source": [
    "list_12 += [100,1000] # like in C or other lower level languages"
   ]
  },
  {
   "cell_type": "markdown",
   "metadata": {},
   "source": [
    "List indexing is just like string indexing, but instead of returning strings it returns new lists"
   ]
  },
  {
   "cell_type": "code",
   "execution_count": 14,
   "metadata": {
    "collapsed": false
   },
   "outputs": [
    {
     "data": {
      "text/plain": [
       "[1, 3, 'i am in a list', [1, 'list_in_list'], '1_more', 3.1415]"
      ]
     },
     "execution_count": 14,
     "metadata": {},
     "output_type": "execute_result"
    }
   ],
   "source": [
    "list_12[::2]"
   ]
  },
  {
   "cell_type": "markdown",
   "metadata": {},
   "source": [
    "### 2.2 Tuples\n",
    "\n",
    "Tuples are just immutable forms of lists. Once defined you cannot change their values - so no append or extend methods exist on it. \n",
    "\n",
    "They can be just defined by commas or more generally in (  )"
   ]
  },
  {
   "cell_type": "code",
   "execution_count": 22,
   "metadata": {
    "collapsed": false
   },
   "outputs": [
    {
     "name": "stdout",
     "output_type": "stream",
     "text": [
      "(1, 2, 3)\n",
      "(1, 2, 3)\n"
     ]
    }
   ],
   "source": [
    "a = 1,2,3 # length 3 tuple\n",
    "print(a)\n",
    "\n",
    "b = (1,2,3) # same as a ; but improves readability\n",
    "print(b)"
   ]
  },
  {
   "cell_type": "markdown",
   "metadata": {},
   "source": [
    "You can easily convert anything to a tuple with the `tuple()` function"
   ]
  },
  {
   "cell_type": "code",
   "execution_count": 23,
   "metadata": {
    "collapsed": false
   },
   "outputs": [
    {
     "data": {
      "text/plain": [
       "('pi', 3.14)"
      ]
     },
     "execution_count": 23,
     "metadata": {},
     "output_type": "execute_result"
    }
   ],
   "source": [
    "tuple(['pi',3.14]) # tuple function simply converts anything inside to a tuple"
   ]
  },
  {
   "cell_type": "markdown",
   "metadata": {},
   "source": [
    "### 2.3 Dictionaries\n",
    "\n",
    "One of the most important containers. A dictionary or `dict` is mutable, unordered collection of unique key/value pairs. \n",
    "\n",
    "In a dictionary, keys are associated with values i.e. you can look up a value knowing only its key. A key in a dictionary must be unique. Extremely fast and efficient at looking up values. \n",
    "\n",
    "To define them \n",
    "\n",
    "`my_dict = {\"key_1\":value_1, \"key_2\":value_2, \"key_3\":value_3}`"
   ]
  },
  {
   "cell_type": "code",
   "execution_count": 28,
   "metadata": {
    "collapsed": false
   },
   "outputs": [],
   "source": [
    "first_dict = {\"first\":'Physics', \"middle\":'of', \"last\":'fluids'}"
   ]
  },
  {
   "cell_type": "markdown",
   "metadata": {},
   "source": [
    "Easily convert a list of tuples to a dict"
   ]
  },
  {
   "cell_type": "code",
   "execution_count": 26,
   "metadata": {
    "collapsed": true
   },
   "outputs": [],
   "source": [
    "axes = dict([(1,'x'),(2,'y'),(3,'z')])"
   ]
  },
  {
   "cell_type": "markdown",
   "metadata": {},
   "source": [
    "You can pull out any value out of a dict by indexing it with its key"
   ]
  },
  {
   "cell_type": "code",
   "execution_count": 30,
   "metadata": {
    "collapsed": false
   },
   "outputs": [
    {
     "data": {
      "text/plain": [
       "'of'"
      ]
     },
     "execution_count": 30,
     "metadata": {},
     "output_type": "execute_result"
    }
   ],
   "source": [
    "first_dict['middle']"
   ]
  },
  {
   "cell_type": "code",
   "execution_count": 31,
   "metadata": {
    "collapsed": false
   },
   "outputs": [
    {
     "data": {
      "text/plain": [
       "'y'"
      ]
     },
     "execution_count": 31,
     "metadata": {},
     "output_type": "execute_result"
    }
   ],
   "source": [
    "axes[2]"
   ]
  },
  {
   "cell_type": "markdown",
   "metadata": {},
   "source": [
    "You can use the `in` operator function to check if a key exisits in a particular dictionary"
   ]
  },
  {
   "cell_type": "code",
   "execution_count": 32,
   "metadata": {
    "collapsed": false
   },
   "outputs": [
    {
     "data": {
      "text/plain": [
       "True"
      ]
     },
     "execution_count": 32,
     "metadata": {},
     "output_type": "execute_result"
    }
   ],
   "source": [
    "\"first\" in first_dict"
   ]
  },
  {
   "cell_type": "markdown",
   "metadata": {},
   "source": [
    "Dictionaries have a lot of useful methods on them https://docs.python.org/3/library/stdtypes.html#dictionary-view-objects"
   ]
  },
  {
   "cell_type": "markdown",
   "metadata": {},
   "source": [
    "## 3. Logic and flow control"
   ]
  },
  {
   "cell_type": "markdown",
   "metadata": {},
   "source": [
    "### 3.1 Conditionals\n",
    "\n",
    "`if <condition>:\n",
    "    <if block>`"
   ]
  },
  {
   "cell_type": "code",
   "execution_count": 34,
   "metadata": {
    "collapsed": false
   },
   "outputs": [
    {
     "name": "stdout",
     "output_type": "stream",
     "text": [
      "bla is 1.0\n"
     ]
    }
   ],
   "source": [
    "bla = 1.0\n",
    "if bla == 1.0:\n",
    "    print('bla is 1.0')\n",
    "    "
   ]
  },
  {
   "cell_type": "markdown",
   "metadata": {},
   "source": [
    "Python is **whitespace separated**. Unlike other languages where you use different brackets to determine where the if block ends, in python it is determined by the indentation. \n",
    "\n",
    "New statements must appear on their own lines. To exit the if block, indentation is returned back to original column"
   ]
  },
  {
   "cell_type": "code",
   "execution_count": 35,
   "metadata": {
    "collapsed": false
   },
   "outputs": [
    {
     "name": "stdout",
     "output_type": "stream",
     "text": [
      "bla is not 1.0\n",
      "this part is out of if block\n"
     ]
    }
   ],
   "source": [
    "if bla != 2.0:\n",
    "    print('bla is not 1.0')\n",
    "\n",
    "print('this part is out of if block')"
   ]
  },
  {
   "cell_type": "markdown",
   "metadata": {},
   "source": [
    "if-else-if syntax\n",
    "\n",
    "```\n",
    " if <condition>:\n",
    "    <if block>\n",
    " else:\n",
    "    <else-block>\n",
    "    \n",
    "  \n",
    " if <condition-0>:\n",
    "    <if block>\n",
    " elif <condition-1>:\n",
    "    <elif-block-1>\n",
    " elif <condition-2>:\n",
    "    <elif-block-2>\n",
    " else:\n",
    "    <else-block>\n",
    " ```"
   ]
  },
  {
   "cell_type": "code",
   "execution_count": 39,
   "metadata": {
    "collapsed": false
   },
   "outputs": [],
   "source": [
    "x_1 = 1.0\n",
    "if x_1==0:\n",
    "    y_1 = 0\n",
    "else:\n",
    "    y_1 = 1/x_1"
   ]
  },
  {
   "cell_type": "markdown",
   "metadata": {},
   "source": [
    "### 3.2 Exception handling\n",
    "\n",
    "To handle situations when code behaves in a unexpected way.\n",
    "\n",
    "``` \n",
    "try:\n",
    "    <try-block>\n",
    "except:\n",
    "    <except-block>\n",
    "```\n",
    "\n",
    "Try block will attemp to execute its code and if there are no errors the program skips the except block and continues. If try block fails it enters the except block. "
   ]
  },
  {
   "cell_type": "code",
   "execution_count": 41,
   "metadata": {
    "collapsed": false
   },
   "outputs": [
    {
     "name": "stdout",
     "output_type": "stream",
     "text": [
      "A bad value is given as input - 0.0\n"
     ]
    }
   ],
   "source": [
    "val = 0.0\n",
    "try:\n",
    "    inv = 1.0/val\n",
    "except:\n",
    "    print('A bad value is given as input - {0}'.format(val))"
   ]
  },
  {
   "cell_type": "markdown",
   "metadata": {},
   "source": [
    "### 3.3 Loops\n",
    "\n",
    "While loops ...\n",
    "\n",
    "```\n",
    "while <condition>:\n",
    "    <while-block>\n",
    "```\n",
    "\n",
    "For loops ...\n",
    "\n",
    "```\n",
    "for <loop-var> in <iterable>:\n",
    "    <for-block>\n",
    "```\n",
    "\n",
    "`<loop-var>` is a variable name that is assigned to a new element of the iterable on each pass through the loop. The `<iterable>` can be any Python object that can return elements, for e.g. all containers (lists,tuples,dictionaries) and strings are iterable. \n"
   ]
  },
  {
   "cell_type": "code",
   "execution_count": 42,
   "metadata": {
    "collapsed": false
   },
   "outputs": [
    {
     "name": "stdout",
     "output_type": "stream",
     "text": [
      "t-minus3\n",
      "t-minus2\n",
      "t-minus1\n",
      "take-off\n"
     ]
    }
   ],
   "source": [
    "for t in [3,2,1]:\n",
    "    print('t-minus' + str(t))\n",
    "print('+++++ take-off +++++')"
   ]
  },
  {
   "cell_type": "markdown",
   "metadata": {},
   "source": [
    "Notice above that you dont need to specify the change in `t` like `t=t-1`. The loop ends when there are no more elements in the list. "
   ]
  },
  {
   "cell_type": "code",
   "execution_count": 43,
   "metadata": {
    "collapsed": false
   },
   "outputs": [
    {
     "name": "stdout",
     "output_type": "stream",
     "text": [
      "physics\n",
      "of\n",
      "fluids\n"
     ]
    }
   ],
   "source": [
    "for t in ['physics','of','fluids']:\n",
    "    print(t)"
   ]
  },
  {
   "cell_type": "code",
   "execution_count": 50,
   "metadata": {
    "collapsed": false
   },
   "outputs": [
    {
     "name": "stdout",
     "output_type": "stream",
     "text": [
      "0\n",
      "2\n",
      "4\n"
     ]
    }
   ],
   "source": [
    "for t in range(0,5,2): # play around with range(start,stop,step)\n",
    "    print(t)"
   ]
  },
  {
   "cell_type": "markdown",
   "metadata": {},
   "source": [
    "### 3.4 Comprehensions\n",
    "\n",
    "`for` loops are nice but they need atleast two lines to achieve anything (more often 3).\n",
    "\n",
    "Comprehensions are a syntax for spelling out simple `for` loops in single expressions. Only constraint is the `for` block should be a single expression. Syntax is as follows\n",
    "\n",
    "```\n",
    "# List comprehension\n",
    "[<expr> for <loop-var> in <iterable>]\n",
    "```"
   ]
  },
  {
   "cell_type": "code",
   "execution_count": 53,
   "metadata": {
    "collapsed": false
   },
   "outputs": [
    {
     "name": "stdout",
     "output_type": "stream",
     "text": [
      "[1, 4, 9, 16]\n"
     ]
    }
   ],
   "source": [
    "yy = [t*t for t in [1,2,3,4]]\n",
    "\n",
    "print(yy)"
   ]
  },
  {
   "cell_type": "markdown",
   "metadata": {},
   "source": [
    "## 4. Functions\n",
    "\n",
    "Once a function is defined it may be called as many times as you want. Calling it will execute all the code inside it. \n",
    "\n",
    "The actions performed depend on the values passed into the function and its arguments. They may or may not return any value. \n",
    "\n",
    "Syntax\n",
    "\n",
    "```\n",
    "def <name>():\n",
    "    <body>\n",
    "```"
   ]
  },
  {
   "cell_type": "code",
   "execution_count": 54,
   "metadata": {
    "collapsed": true
   },
   "outputs": [],
   "source": [
    "def quote():\n",
    "    print('With great power comes great responsibility')"
   ]
  },
  {
   "cell_type": "code",
   "execution_count": 55,
   "metadata": {
    "collapsed": false
   },
   "outputs": [
    {
     "name": "stdout",
     "output_type": "stream",
     "text": [
      "With great power comes great responsibility\n"
     ]
    }
   ],
   "source": [
    "quote()"
   ]
  },
  {
   "cell_type": "markdown",
   "metadata": {},
   "source": [
    "Empty parantheses means the function is not parameterized in any way and takes no arguments when called. \n",
    "\n",
    "Functions can also return values using the `return` keyword followed by an expression to return. "
   ]
  },
  {
   "cell_type": "code",
   "execution_count": 57,
   "metadata": {
    "collapsed": false
   },
   "outputs": [],
   "source": [
    "def hundred():\n",
    "    return 100"
   ]
  },
  {
   "cell_type": "code",
   "execution_count": 58,
   "metadata": {
    "collapsed": false
   },
   "outputs": [
    {
     "data": {
      "text/plain": [
       "100"
      ]
     },
     "execution_count": 58,
     "metadata": {},
     "output_type": "execute_result"
    }
   ],
   "source": [
    "print(hundred())"
   ]
  },
  {
   "cell_type": "markdown",
   "metadata": {},
   "source": [
    "Calling function with multiple arguments"
   ]
  },
  {
   "cell_type": "code",
   "execution_count": 59,
   "metadata": {
    "collapsed": true
   },
   "outputs": [],
   "source": [
    "def power(base,x):\n",
    "    return base**x"
   ]
  },
  {
   "cell_type": "code",
   "execution_count": 60,
   "metadata": {
    "collapsed": false
   },
   "outputs": [
    {
     "data": {
      "text/plain": [
       "8"
      ]
     },
     "execution_count": 60,
     "metadata": {},
     "output_type": "execute_result"
    }
   ],
   "source": [
    "power(2,3)"
   ]
  },
  {
   "cell_type": "markdown",
   "metadata": {},
   "source": [
    "**Keyword arguments**\n",
    "\n",
    "These allow you to set default values to arguments."
   ]
  },
  {
   "cell_type": "code",
   "execution_count": 61,
   "metadata": {
    "collapsed": true
   },
   "outputs": [],
   "source": [
    "def line(x,a=1.0,b=2.0):\n",
    "    return a*x + b"
   ]
  },
  {
   "cell_type": "code",
   "execution_count": 62,
   "metadata": {
    "collapsed": false
   },
   "outputs": [
    {
     "data": {
      "text/plain": [
       "3.0"
      ]
     },
     "execution_count": 62,
     "metadata": {},
     "output_type": "execute_result"
    }
   ],
   "source": [
    "line(1)"
   ]
  },
  {
   "cell_type": "code",
   "execution_count": 63,
   "metadata": {
    "collapsed": false
   },
   "outputs": [
    {
     "data": {
      "text/plain": [
       "4.0"
      ]
     },
     "execution_count": 63,
     "metadata": {},
     "output_type": "execute_result"
    }
   ],
   "source": [
    "line(1,a=2.0)"
   ]
  },
  {
   "cell_type": "markdown",
   "metadata": {},
   "source": [
    "You can also have variable arguments. Notice by running the below script that positional arguments are stored as tuples and keyword arguments are stored as dictionary."
   ]
  },
  {
   "cell_type": "code",
   "execution_count": 68,
   "metadata": {
    "collapsed": true
   },
   "outputs": [],
   "source": [
    "def variable_args(*args,**kwargs):\n",
    "    print('args :', args)\n",
    "    print('kwargs :', kwargs)"
   ]
  },
  {
   "cell_type": "code",
   "execution_count": 69,
   "metadata": {
    "collapsed": false
   },
   "outputs": [
    {
     "name": "stdout",
     "output_type": "stream",
     "text": [
      "args : ('one', 'two')\n",
      "kwargs : {'z': 3, 'x': 1, 'y': 2}\n"
     ]
    }
   ],
   "source": [
    "variable_args('one','two',x=1,y=2,z=3)"
   ]
  },
  {
   "cell_type": "markdown",
   "metadata": {},
   "source": [
    "**Docstrings**\n",
    "\n",
    "You can have your own function documentation by including text between truple quotes at the start of a function. You can recover the documentation using the `?` operator as you would do for any other built in python function"
   ]
  },
  {
   "cell_type": "code",
   "execution_count": 66,
   "metadata": {
    "collapsed": true
   },
   "outputs": [],
   "source": [
    "def doc_test():\n",
    "    \"\"\"\n",
    "    This is just a simple explanation of this function\n",
    "    I do not do anything\n",
    "    \"\"\"\n",
    "    "
   ]
  },
  {
   "cell_type": "code",
   "execution_count": 67,
   "metadata": {
    "collapsed": true
   },
   "outputs": [],
   "source": [
    "doc_test?"
   ]
  },
  {
   "cell_type": "code",
   "execution_count": null,
   "metadata": {
    "collapsed": true
   },
   "outputs": [],
   "source": []
  }
 ],
 "metadata": {
  "anaconda-cloud": {},
  "kernelspec": {
   "display_name": "Python [Root]",
   "language": "python",
   "name": "Python [Root]"
  },
  "language_info": {
   "codemirror_mode": {
    "name": "ipython",
    "version": 3
   },
   "file_extension": ".py",
   "mimetype": "text/x-python",
   "name": "python",
   "nbconvert_exporter": "python",
   "pygments_lexer": "ipython3",
   "version": "3.5.2"
  },
  "nbpresent": {
   "slides": {},
   "themes": {}
  }
 },
 "nbformat": 4,
 "nbformat_minor": 0
}
